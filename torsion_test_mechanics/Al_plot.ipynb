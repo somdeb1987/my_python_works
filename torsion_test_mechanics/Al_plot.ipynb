{
 "cells": [
  {
   "cell_type": "code",
   "execution_count": 75,
   "metadata": {
    "collapsed": true
   },
   "outputs": [],
   "source": [
    "%matplotlib qt"
   ]
  },
  {
   "cell_type": "code",
   "execution_count": 58,
   "metadata": {
    "collapsed": true
   },
   "outputs": [],
   "source": [
    "import matplotlib.pyplot as plt\n",
    "import numpy as np"
   ]
  },
  {
   "cell_type": "code",
   "execution_count": 134,
   "metadata": {
    "collapsed": false
   },
   "outputs": [
    {
     "name": "stdout",
     "output_type": "stream",
     "text": [
      "The linear polynomial is: \n",
      "\n",
      "  \n",
      "6.845 x - 0.9479\n",
      "The nonlinear polynomial is: \n",
      "\n",
      "             4             3             2\n",
      "-2.421e-09 x + 2.294e-06 x - 0.0008611 x + 0.1697 x + 45.58\n",
      "The stress-strain linear polynomial is: \n",
      "\n",
      "  \n",
      "2.353e+04 x - 4.685\n",
      "The stress-strain non-linear polynomial is: \n",
      "\n",
      "         4        3         2\n",
      "-948.7 x + 1496 x - 990.4 x + 448.5 x + 173.3\n"
     ]
    }
   ],
   "source": [
    "x=np.array([])\n",
    "y=np.array([])\n",
    "z=np.array([])\n",
    "D=10.1\n",
    "L=61.30\n",
    "# Open file\n",
    "f = open('al.txt', 'r')\n",
    "\n",
    "# Read and ignore header lines\n",
    "header1 = f.readline()\n",
    "\n",
    "# Loop over lines and extract variables of interest\n",
    "for line in f:\n",
    "    line = line.strip()\n",
    "    columns = line.split()\n",
    "    stress = float(columns[2])\n",
    "    torque = float(columns[1])*9.80665\n",
    "    theta = float(columns[0])\n",
    "    x=np.append(x,theta)\n",
    "    y=np.append(y,torque)\n",
    "    z=np.append(z,stress)\n",
    "'''=========================='''\n",
    "''' Torque-Twist diagram '''\n",
    "'''=========================='''\n",
    "f1 = plt.figure(1)\n",
    "plt.plot(x,y,'ro',markersize=1.2)\n",
    "f1.suptitle('Torque vs AoT')\n",
    "plt.xlabel('Angle of Twist(degree)')\n",
    "plt.ylabel('Torque(N-m)')\n",
    "plt.grid()\n",
    "f1.show()\n",
    "\n",
    "\n",
    "\"\"\"The linear part\"\"\"\n",
    "x1=x[0:50]\n",
    "y1=y[0:50]\n",
    "f2 = plt.figure(2)\n",
    "plt.plot(x1,y1,'ro',markersize=3.4)\n",
    "plt.plot(np.unique(x1), np.poly1d(np.polyfit(x1, y1, 1))(np.unique(x1)))\n",
    "f2.suptitle('Torque vs AoT : Elastic region (Linear)')\n",
    "plt.xlabel('Angle of Twist(degree)')\n",
    "plt.ylabel('Torque(N-m)')\n",
    "plt.grid()\n",
    "f2.show()\n",
    "\n",
    "\"\"\"The nonlinear part\"\"\"\n",
    "x2=x[80:]\n",
    "y2=y[80:]\n",
    "f3 = plt.figure(3)\n",
    "plt.plot(x2,y2,'ro',markersize=0.4)\n",
    "plt.plot(np.unique(x2), np.poly1d(np.polyfit(x2, y2, 4))(np.unique(x2)))\n",
    "f3.suptitle('Torque vs AoT : Plastic region(Nonlinear)')\n",
    "plt.xlabel('Angle of Twist(degree)')\n",
    "plt.ylabel('Torque(N-m)')\n",
    "plt.grid()\n",
    "f3.show()\n",
    "\n",
    "\n",
    "'''=========================='''\n",
    "''' Stress-Strain diagram '''\n",
    "'''=========================='''\n",
    "\n",
    "'''Linear region'''\n",
    "x4=(np.pi/180.0)*x1*0.5*D/L\n",
    "J=np.pi*D**4.0/32.0\n",
    "y4=1000*16.0*y1/(np.pi*D*D*D)\n",
    "f4 = plt.figure(4)\n",
    "plt.plot(x4,y4,'ro',markersize=2.4)\n",
    "plt.plot(np.unique(x4), np.poly1d(np.polyfit(x4, y4, 1))(np.unique(x4)))\n",
    "f4.suptitle('Shear vs Strain : Elastic region(linear)')\n",
    "plt.xlabel('Strain')\n",
    "plt.ylabel('Shear stress (Mph)')\n",
    "plt.grid()\n",
    "f4.show()\n",
    "\n",
    "\n",
    "'''Nonlinear Region'''\n",
    "x5=(np.pi/180.0)*x[200:]*0.5*D/L\n",
    "d1=y[49]-y[2]\n",
    "d2=x[49]-x[2]\n",
    "y5=1000*(1/(2.0*np.pi*((0.5*D)**3.0)))*((np.pi/180.0)*x[200:]*(d1/d2)+3.0*y[200:])\n",
    "\n",
    "f5 = plt.figure(5)\n",
    "plt.plot(x5,y5,'ro',markersize=2.4)\n",
    "plt.plot(np.unique(x5), np.poly1d(np.polyfit(x5, y5, 4))(np.unique(x5)))\n",
    "f5.suptitle('Shear vs Strain : Plastic region(nonlinear)')\n",
    "plt.xlabel('Strain')\n",
    "plt.ylabel('Shear stress (Mph)')\n",
    "plt.grid()\n",
    "f5.show()\n",
    "\n",
    "\n",
    "\n",
    "\n",
    "polynomial = np.poly1d(np.polyfit(x1, y1, 1))\n",
    "print \"The linear polynomial is: \\n\\n %s\" % polynomial\n",
    "\n",
    "polynomial = np.poly1d(np.polyfit(x2, y2, 4))\n",
    "print \"The nonlinear polynomial is: \\n\\n %s\" % polynomial\n",
    "\n",
    "polynomial = np.poly1d(np.polyfit(x4, y4, 1))\n",
    "print \"The stress-strain linear polynomial is: \\n\\n %s\" % polynomial\n",
    "\n",
    "polynomial = np.poly1d(np.polyfit(x5, y5, 4))\n",
    "print \"The stress-strain non-linear polynomial is: \\n\\n %s\" % polynomial\n",
    "\n"
   ]
  }
 ],
 "metadata": {
  "kernelspec": {
   "display_name": "Python [Root]",
   "language": "python",
   "name": "Python [Root]"
  },
  "language_info": {
   "codemirror_mode": {
    "name": "ipython",
    "version": 2
   },
   "file_extension": ".py",
   "mimetype": "text/x-python",
   "name": "python",
   "nbconvert_exporter": "python",
   "pygments_lexer": "ipython2",
   "version": "2.7.12"
  }
 },
 "nbformat": 4,
 "nbformat_minor": 0
}
